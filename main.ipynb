{
 "cells": [
  {
   "cell_type": "code",
   "execution_count": null,
   "metadata": {},
   "outputs": [],
   "source": [
    "!pip install --upgrade --quiet  praw\n",
    "!pip install langchain_community"
   ]
  },
  {
   "cell_type": "code",
   "execution_count": 3,
   "metadata": {},
   "outputs": [],
   "source": [
    "from langchain_community.document_loaders import RedditPostsLoader"
   ]
  },
  {
   "cell_type": "code",
   "execution_count": 7,
   "metadata": {},
   "outputs": [],
   "source": [
    "# load using 'subreddit' mode\n",
    "loader = RedditPostsLoader(\n",
    "    client_id=\"HNd1xw9QUw2iHBHTx2NuLg\",\n",
    "    client_secret=\"0vhApRMpiaGTqxbwsdg7ZtF_zycMBQ\",\n",
    "    user_agent=\"chatbot_testing by u/Suspicious-Fill5937\",\n",
    "    categories=[\"new\", \"hot\"],  # List of categories to load posts from\n",
    "    mode=\"subreddit\",\n",
    "    search_queries=[\n",
    "        \"clickfunnels\",\n",
    "        \"wallstreetbets\",\n",
    "    ],  # List of subreddits to load posts from\n",
    "    number_posts=20,  # Default value is 10\n",
    ")\n",
    "\n",
    "# # or load using 'username' mode\n",
    "# loader = RedditPostsLoader(\n",
    "#     client_id=\"YOUR CLIENT ID\",\n",
    "#     client_secret=\"YOUR CLIENT SECRET\",\n",
    "#     user_agent=\"extractor by u/Master_Ocelot8179\",\n",
    "#     categories=['new', 'hot'],\n",
    "#     mode = 'username',\n",
    "#     search_queries=['ga3far', 'Master_Ocelot8179'],         # List of usernames to load posts from\n",
    "#     number_posts=20\n",
    "#     )\n",
    "\n",
    "# Note: Categories can be only of following value - \"controversial\" \"hot\" \"new\" \"rising\" \"top\""
   ]
  },
  {
   "cell_type": "code",
   "execution_count": 13,
   "metadata": {},
   "outputs": [
    {
     "data": {
      "text/plain": [
       "Document(metadata={'post_subreddit': 'r/clickfunnels', 'post_category': 'new', 'post_title': 'Looking for a Shopify Agency to Build a Multi-Step Funnel with One-Click Upsells', 'post_score': 3, 'post_id': '1jesxsw', 'post_url': 'https://www.reddit.com/r/clickfunnels/comments/1jesxsw/looking_for_a_shopify_agency_to_build_a_multistep/', 'post_author': Redditor(name='eldaarh')}, page_content='Hey everyone,\\n\\nI’m looking for a Shopify agency that specializes in building funnels similar to ClickFunnels. My funnel is about 8-9 pages long and needs to include one-click upsell functionality.\\n\\nI need an agency that has experience with:\\n\\n✅ Custom Shopify funnel development\\n\\n✅ One-click upsells (similar to ClickFunnels)\\n\\n✅ High-converting checkout flows\\n\\n✅ Seamless integrations & fast load times\\n\\nIf you or your agency has experience with this, drop a comment or DM me with your portfolio and pricing details. Recommendations are also welcome!\\n\\nThanks!')"
      ]
     },
     "execution_count": 13,
     "metadata": {},
     "output_type": "execute_result"
    }
   ],
   "source": [
    "documents = loader.load()\n",
    "documents[0]\n",
    "\n"
   ]
  },
  {
   "cell_type": "code",
   "execution_count": null,
   "metadata": {},
   "outputs": [],
   "source": []
  }
 ],
 "metadata": {
  "kernelspec": {
   "display_name": "a0",
   "language": "python",
   "name": "python3"
  },
  "language_info": {
   "codemirror_mode": {
    "name": "ipython",
    "version": 3
   },
   "file_extension": ".py",
   "mimetype": "text/x-python",
   "name": "python",
   "nbconvert_exporter": "python",
   "pygments_lexer": "ipython3",
   "version": "3.12.7"
  }
 },
 "nbformat": 4,
 "nbformat_minor": 2
}
